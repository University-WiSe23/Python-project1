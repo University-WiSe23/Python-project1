{
 "cells": [
  {
   "cell_type": "markdown",
   "id": "2f079e49",
   "metadata": {},
   "source": [
    "Aufg.3) Typ C\n",
    "Schreiben Sie ein Programm, dass jeweils das Ergebnis folgender Ausdrücke berechnet und mit der print-Methode am Bildschirm ausgibt. Sagen Sie voraus, welcher Wert ausgegeben wird und welchen Datentyp der Wert hat. (Denken Sie bitte bei dieser und allen folgenden Aufgaben an die Kommentierung zu Syntax und Semantik, in der Sie auch erklären, wie und warum es jeweils zu dem ausgegebenen Wert kommt.)"
   ]
  },
  {
   "cell_type": "code",
   "execution_count": null,
   "id": "0b03df31",
   "metadata": {},
   "outputs": [],
   "source": [
    "# a) \"Hello\"+\" World\" (string, der aus zwei einzelnen strings entsteht)\n",
    "# Der ausgegebene Wert wird \"Hello World\" sein, da die einzelnen strings addiert werden\n",
    "#\" World\"  beginnt mit einem Leerzeichen, daher bildet sich beim Ausdruck eine Lücke zwischen den strings\n",
    "print(\"Hello\"+\" World\")\n",
    "print(type(\"Hello\"+\" World\"))"
   ]
  },
  {
   "cell_type": "code",
   "execution_count": null,
   "id": "897685fb",
   "metadata": {},
   "outputs": [],
   "source": [
    "# b) \"Hello\"+\"\\n\"+\" World\" (strings, der einen neuen Zeilensatz beginnt und so den Satz visuell teilt)\n",
    "# Der ausgegebene Wert wird, durch den escape Operator \\n (=new line), in zwei einzelnen Absätzen folgendermaßen aussehen:\n",
    "# Hello\n",
    "#  World\n",
    "print(\"Hello\"+\"\\n\"+\" World\")\n",
    "print(type(\"Hello\"+\"\\n\"+\" World\"))"
   ]
  },
  {
   "cell_type": "code",
   "execution_count": null,
   "id": "79e7858a",
   "metadata": {},
   "outputs": [],
   "source": [
    "# c) \"Hello\"+\"\\t\"+\" World\" (strings, die durch einen \"tab\" getrennt werden)\n",
    "# Der ausgegebene Wert wird \"Hello    World\" lauten --> ein tab sind in der Regel 4 Leerzeichen\n",
    "# selbes Prinzip siehe oben: zwei strings werden durch einen escape-Operator addiert, zwischen der \n",
    "# zwei strings entsteht ein tab (Leerraum)\n",
    "print(\"Hello\"+\"\\t\"+\" World\")\n",
    "print(type(\"Hello\"+\"\\t\"+\" World\"))"
   ]
  },
  {
   "cell_type": "markdown",
   "id": "d481f0d9",
   "metadata": {},
   "source": [
    "Syntax: Zusammengesetzt aus Funktion print und einem in Klammern gesetzten Objekt\n",
    "-> print: in Python eingebaute Funktion = Ausgabe von Text oder Daten\n",
    "\"Hello\" + \" World\": Das Objekt, das an die print-Funktion übergeben wird. Es handelt sich um eine Zeichenkette, die sich aus der Verkettung der beiden Zeichenkettenteile \"Hello\" und \"World\" mit dem Operator + ergibt\n",
    "--> zusätzlich werden die escape-Operatoren \\n und \\t zwischen die Zeichenkettenteile implementiert, damit sich ein neuer Absatz oder ein \"tab\" zwischen der Zeilen bildet.\n",
    "Die escape-Operatoren ermöglichen sonst \"illegale\" Zeichen in strings zu nutzen, sie beginnen mit einem backslash \\.\n",
    "\n",
    "Semantisch: semantische Bedeutung dieses Befehls: die Zeichenkette \"Hello World\" auf der Konsole auszugeben\n",
    "\"Hello\" und \"World\" sind zwei String-Literale (direkte Darstellung eines Werts)\n",
    "Der Operator + wird für die Konkatenation verwendet, die die beiden Strings zusammenfügt - das Ergebnis der Verkettung ist die Zeichenkette \"Hello World\". \"print()\" wird verwendet, um die resultierende Zeichenkette auf der Konsole auszugeben.\n",
    "--> zusätzlich wird durch die Einbindung des Operatoren \\n ein neuer Absatz zwischen der string-Literalen erschaffen und durch die Einbindung von \\t ein neuer tab (4Leerzeichen) eingefügt."
   ]
  },
  {
   "cell_type": "code",
   "execution_count": null,
   "id": "f78ae43d",
   "metadata": {},
   "outputs": [],
   "source": [
    "# d) 4 + 5 (integer-Addition)\n",
    "# Der ausgegebene Wert wird, der einer normalen Addition sein --> 4+5 = 9 (jedoch als integer, eine ganze Zahl)\n",
    "print(4+5)\n",
    "print(type(9))"
   ]
  },
  {
   "cell_type": "code",
   "execution_count": null,
   "id": "1238193c",
   "metadata": {},
   "outputs": [],
   "source": [
    "# e) 4.0 + 5 (float-Addition)\n",
    "# Der ausgegebene Wert wird, der einer normalen Addition sein --> 4.0+5 = 9 (jedoch als float, einer Fließkommazahl)\n",
    "print(4.0+5)\n",
    "print(type(9.0))"
   ]
  },
  {
   "cell_type": "markdown",
   "id": "ce998b88",
   "metadata": {},
   "source": [
    "Syntax: Zusammengesetzt aus Funktion print und einem in Klammern gesetzten Objekt\n",
    "print: in Python eingebaute Funktion = Ausgabe von Text oder Daten\n",
    "4.0 + 5 wird an die print-Funktion übergeben. Eine Fließkommazahl (4.0) wird mit Hilfe des Operators + zu einer Ganzzahl (5) addiert.\n",
    "\n",
    "Semantisch: Bedeutung dieses Befehls besteht darin, 4,0 und 5 zu addieren und das Ergebnis auf der Konsole auszugeben.\n",
    "4.0 ist eine Fließkommazahl, d.h. eine Zahl mit einem Dezimalpunkt (float).\n",
    "5 ist eine ganze Zahl.\n",
    "Der Operator + wird für die Addition verwendet und dient dazu, die beiden Zahlen zu addieren.\n",
    "Das Ergebnis der Addition ist 9,0, also eine Fließkommazahl.\n",
    "Die Funktion print wird verwendet, um diese Zahl auf der Konsole anzuzeigen."
   ]
  },
  {
   "cell_type": "code",
   "execution_count": null,
   "id": "d1d0c5a1",
   "metadata": {},
   "outputs": [],
   "source": [
    "# f) 2/4 (\"integer\"-Division)\n",
    "# Der ausgegebene Wert wird, der einer normalen Division sein --> 2/4 = 0.5 (jedoch als float, einer Fließkommazahl)\n",
    "print(2/4)\n",
    "print(type(2/4))"
   ]
  },
  {
   "cell_type": "code",
   "execution_count": null,
   "id": "80c22778",
   "metadata": {
    "scrolled": true
   },
   "outputs": [],
   "source": [
    "# g) 2.0/4 (float-Division)\n",
    "# Der ausgegebene Wert wird, der einer normalen Division sein --> 2.0/4 = 0.5 (jedoch als float, einer Fließkommazahl)\n",
    "print(2.0/4)\n",
    "print(type(2.0/4))"
   ]
  },
  {
   "cell_type": "markdown",
   "id": "cb56b380",
   "metadata": {},
   "source": [
    "Syntax: Zusammengesetzt aus Funktion print und einem in Klammern gesetzten Objekt\n",
    "print: in Python eingebaute Funktion = Ausgabe von Text oder Daten\n",
    "2/4 wird an die print-Funktion übergeben. Eine ganze Zahl wird durch eine weitere dividiert.\n",
    "\n",
    "Semantisch: Bedeutung dieses Befehls besteht darin, 2 durch 4 zu dividieren und das Ergebnis auf der Konsole auszugeben.\n",
    "2 ist eine ganze Zahl und 4 ist eine ganze Zahl.\n",
    "Der Operator / wird für die Division verwendet und dient dazu, die beiden Zahlen zu dividieren.\n",
    "Das Ergebnis der Division ist 0.5, also eine Fließkommazahl (egal, ob mit einem float und integer/int und int gerechnet wurde)\n",
    "Die Funktion print wird verwendet, um diese Zahl auf der Konsole anzuzeigen."
   ]
  },
  {
   "cell_type": "code",
   "execution_count": null,
   "id": "021ae6b0",
   "metadata": {},
   "outputs": [],
   "source": [
    "# h) 5//2 (\"floor division\" - Gibt die größte Ganzzahl zurück, die kleiner oder gleich der angegebenen Gleitkommazahl ist.)\n",
    "# Der ausgegebene Wert wird, der einer ganzzahligen, also gerundeten Division sein \n",
    "# --> 5//2 = 2 (Rest 1) (als integer, eine ganze Zahl)\n",
    "print(5//2)\n",
    "print(type(5//2))"
   ]
  },
  {
   "cell_type": "markdown",
   "id": "06c5365e",
   "metadata": {},
   "source": [
    "Syntax: Zusammengesetzt aus Funktion print und einem in Klammern gesetzten Objekt\n",
    "print: in Python eingebaute Funktion = Ausgabe von Text oder Daten\n",
    "5//2 wird an die print-Funktion übergeben. Eine ganze Zahl wird durch eine weitere dividiert.\n",
    "\n",
    "Semantisch: Bedeutung dieses Befehls besteht darin, 5 durch 2 zu dividieren und das *gerundete* Ergebnis auf der Konsole auszugeben.\n",
    "5 ist eine ganze Zahl und 2 ist eine ganze Zahl.\n",
    "Der Operator // wird für die gerundete Division verwendet und dient dazu, die beiden Zahlen zu dividieren, aber nur einen integer-Wert als Ergebnis anzuzeigen.\n",
    "Das Ergebnis der Division ist 2, also eine ganze Zahl.\n",
    "Die Funktion print wird verwendet, um diese Zahl auf der Konsole anzuzeigen."
   ]
  },
  {
   "cell_type": "code",
   "execution_count": null,
   "id": "5d8f3ebc",
   "metadata": {},
   "outputs": [],
   "source": [
    "# i) 10%3 (Modulo)\n",
    "# Modulo = gibt den Restwert an, der bei einer ganzzahligen Division entsteht.\n",
    "# Der ausgegebene Wert wird, der einer Modulo-Operation sein --> 10%3 = 1    - weil: 10/3 = 9    Rest = 1\n",
    "print(10%3)\n",
    "print(type(10%3))"
   ]
  },
  {
   "cell_type": "markdown",
   "id": "4f21b2f7",
   "metadata": {},
   "source": [
    "Syntax: Zusammengesetzt aus Funktion print und einem in Klammern gesetzten Objekt\n",
    "print: in Python eingebaute Funktion = Ausgabe von Text oder Daten\n",
    "10%3 wird an die print-Funktion übergeben. Das \"Modulo\" wird berechnet.\n",
    "\n",
    "Semantisch: Bedeutung dieses Befehls besteht darin, 10 durch 3 zu dividieren und nur den Rest auf der Konsole auszugeben.\n",
    "10 ist eine ganze Zahl und 3 ist eine ganze Zahl.\n",
    "Der Operator % wird für die \"Modulo\" verwendet und dient dazu, die beiden Zahlen zu dividieren, aber nur den Rest-Wert als Ergebnis anzuzeigen.\n",
    "Das Ergebnis der Modulo-Division ist 1, also eine ganze Zahl.\n",
    "Die Funktion print wird verwendet, um diese Zahl auf der Konsole anzuzeigen."
   ]
  },
  {
   "cell_type": "code",
   "execution_count": null,
   "id": "1a9120bb",
   "metadata": {},
   "outputs": [],
   "source": [
    "# j) 3**2 (Potenz)\n",
    "# Der ausgegebene Wert wird, der einer normalen Potenz sein --> 3**2 = 9 (als integer, eine ganze Zahl)\n",
    "print(3**2)\n",
    "print(type(3**2))"
   ]
  },
  {
   "cell_type": "markdown",
   "id": "69f74a52",
   "metadata": {},
   "source": [
    "Syntax: Zusammengesetzt aus Funktion print und einem in Klammern gesetzten Objekt\n",
    "print: in Python eingebaute Funktion = Ausgabe von Text oder Daten\n",
    "3* *2 wird an die print-Funktion übergeben. Eine ganze Zahl erhält den Exponenten 2.\n",
    "\n",
    "Semantisch: Bedeutung dieses Befehls besteht darin, 3 mit 2 zu potenzieren und das Ergebnis auf der Konsole auszugeben.\n",
    "3 isteine ganze Zahl und 2 ist eine ganze Zahl.\n",
    "Der Operator * * für die Potenzierung verwendet und dient dazu, die erste Zahl zu potenzieren und als Ergebnis auszugeben.\n",
    "Das Ergebnis ist 9, also eine ganze Zahl.\n",
    "Die Funktion print wird verwendet, um diese Zahl auf der Konsole anzuzeigen."
   ]
  },
  {
   "cell_type": "markdown",
   "id": "f4201e8c",
   "metadata": {},
   "source": [
    "Syntax; \n",
    "Der Operator \"print\" wird angewendet um\n",
    "1. das Produkt (\"Mal-Rechnung\") aus den Werten 300*4 \n",
    "2. die Summe (\"Plus-Rechnung\") aus den Werten 12+9\n",
    "3. der Quotient (\"Ergebnis der Division\") aus den Werten 389/0.7\n",
    "auszugeben.\n",
    "Der Operator \"print\" druckt die Werte/Variablen nach Ausführung aus.\n",
    "Beim Operator \"print\" werden die zu druckenden Angaben in () geschrieben, damit\n",
    "spezifisch bestimmt werden kann, was genau ausgegeben werden soll. Daher wird nur der \n",
    "Teil, der in den Klammern steht, ausgegeben. \n",
    "Die Zahlen 300/4/12/9/389/0.7 werden dabei als Zahl-Werte mathematisch verechnet.\n",
    "Die Operatoren für die Rechnungen sind jeweils eine Multiplikation, Addition und Division.\n",
    "\n",
    "Semantik;\n",
    "In dem ersten Feld wird den Zahlen der Datentyp \"integer\" vergeben, da sie keine Fließkommazahlen sind.\n",
    "Danach werden die Integer-Zahlen durch die Rechenoperatoren * und + verechnet und das jeweilige Ergebnis wird duch den \"print\" Operator ausgegeben.\n",
    "Im zweiten Feld wird der Ganzenzahl (389) der Datentyp \"integer\" vergeben und der Fließkommazahl (0.7) der Datentyp float zugewiesen. Der Rechenoperator / verechnet die Zahlen als Division und gibt durch den \"print\" Operator das Ergebnis an."
   ]
  },
  {
   "cell_type": "code",
   "execution_count": null,
   "id": "71369201",
   "metadata": {},
   "outputs": [
    {
     "name": "stdout",
     "output_type": "stream",
     "text": [
      "1200\n",
      "21\n"
     ]
    }
   ],
   "source": [
    "#Mein erstes Programm\n",
    "print(300*4)\n",
    "print(12+9)"
   ]
  },
  {
   "cell_type": "markdown",
   "id": "1fda9c37",
   "metadata": {},
   "source": [
    "Hinweissatz zur folgenden Zelle; diese Berechnung würde ich im Kopf nicht können!"
   ]
  },
  {
   "cell_type": "code",
   "execution_count": null,
   "id": "6f69730f",
   "metadata": {},
   "outputs": [
    {
     "name": "stdout",
     "output_type": "stream",
     "text": [
      "555.7142857142858\n"
     ]
    }
   ],
   "source": [
    "print(389/0.7)"
   ]
  },
  {
   "cell_type": "markdown",
   "id": "b2cbd469",
   "metadata": {},
   "source": [
    "Mein Versuch eine Zeichenkette mit Umbrüchen herzustellen:"
   ]
  },
  {
   "cell_type": "code",
   "execution_count": null,
   "id": "850807d8",
   "metadata": {},
   "outputs": [
    {
     "name": "stdout",
     "output_type": "stream",
     "text": [
      "I think this is\n",
      "kind of\n",
      "very\n",
      "cool!\n"
     ]
    }
   ],
   "source": [
    "#a)\n",
    "print(\"I think this is\\nkind of\\nvery\\ncool!\")"
   ]
  },
  {
   "cell_type": "code",
   "execution_count": null,
   "id": "026846b9",
   "metadata": {},
   "outputs": [
    {
     "name": "stdout",
     "output_type": "stream",
     "text": [
      "Maybe my mom was right!...but I shouldn't tell her.\n"
     ]
    }
   ],
   "source": [
    "#b1)\n",
    "print(\"Maybe my mom was right!\"\n",
    "     \"...but I shouldn't tell her.\")"
   ]
  },
  {
   "cell_type": "code",
   "execution_count": null,
   "id": "7b1b398b",
   "metadata": {},
   "outputs": [
    {
     "name": "stdout",
     "output_type": "stream",
     "text": [
      "I ate a lot of cake yesterday,\n",
      "my stomach will not be happy!\n"
     ]
    }
   ],
   "source": [
    "#b2)\n",
    "print(\"I ate a lot of cake yesterday,\\nmy stomach will not be happy!\")"
   ]
  },
  {
   "cell_type": "markdown",
   "id": "28307b0a",
   "metadata": {},
   "source": [
    "NOTE: string-text wird genau wie angegeben - aneinander geheftet, übersichtshalber hilft also ein Leerzeichen.\n",
    "Veranschaulichung: print(\"ich wünsche mir\\einen schwarzen Kater\") wird als Ausgabe haben: ich wünsche mireinen schwarzen Kater."
   ]
  },
  {
   "cell_type": "code",
   "execution_count": null,
   "id": "b56fe88f",
   "metadata": {},
   "outputs": [
    {
     "name": "stdout",
     "output_type": "stream",
     "text": [
      "I told my grandmom that\n",
      "her muffins tasted awesome,\n",
      "it made her really happy!\n"
     ]
    }
   ],
   "source": [
    "#Mit Übersicht\n",
    "print(\"I told my grandmom that\\nher muffins tasted awesome,\\nit made her really happy!\")"
   ]
  }
 ],
 "metadata": {
  "kernelspec": {
   "display_name": "Python 3 (ipykernel)",
   "language": "python",
   "name": "python3"
  },
  "language_info": {
   "codemirror_mode": {
    "name": "ipython",
    "version": 3
   },
   "file_extension": ".py",
   "mimetype": "text/x-python",
   "name": "python",
   "nbconvert_exporter": "python",
   "pygments_lexer": "ipython3",
   "version": "3.11.4"
  }
 },
 "nbformat": 4,
 "nbformat_minor": 5
}
