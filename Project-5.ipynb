{
 "cells": [
  {
   "cell_type": "markdown",
   "id": "a7adf360",
   "metadata": {},
   "source": [
    "**Aufgabe 4 (Typ C)**\n",
    "Es werden über den Tag viermal der systolische und diastolische Blutdruck bei einer Person gemessen. Erstellen Sie eine (zweidimensionale) \n",
    "Liste mit den vier Paaren von Blutdruckwerten (Systolisch, diastolisch). Geben Sie danach diese Werte in korrekter Reihenfolge am Bildschirm aus. \n",
    "\n",
    "Der Ausdruck soll etwa folgendermaßen aussehen:\n",
    "Blutdruckwerte 1:\n",
    "systol.: 120 // diast.: 82\n",
    "\n",
    "Blutdruckwerte 2:\n",
    "systol.: 125 // diast.: 86\n",
    "\n",
    "Blutdruckwerte 3:\n",
    "systol.: 117 // diast.: 79\n",
    "\n",
    "Blutdruckwerte 4:\n",
    "systol.: 121 // diast.: 84"
   ]
  },
  {
   "cell_type": "code",
   "execution_count": 3,
   "id": "b159b50f",
   "metadata": {
    "scrolled": true
   },
   "outputs": [
    {
     "name": "stdout",
     "output_type": "stream",
     "text": [
      "120 82 125 86 117 79 121 84\n",
      "\n",
      "\n",
      "Blutdruckwerte 1:\n",
      "systol.: 120 // diastol.: 82\n",
      "\n",
      "Blutdruckwerte 2:\n",
      "systol.: 125 // diastol.: 86\n",
      "\n",
      "Blutdruckwerte 3:\n",
      "systol.: 117 // diastol.: 79\n",
      "\n",
      "Blutdruckwerte 4:\n",
      "systol.: 121 // diastol.: 84\n",
      "\n"
     ]
    }
   ],
   "source": [
    "# Ich weise der Variable \"BT\" (Blutdruck am Tag) eine zweidimensionale Liste zu.\n",
    "# Die Liste BT hat 4 Elemente. Innerhalb der 4 Elemente/Unterlisten sind jeweils 2 ganzzahl Werte (vom Typ int).\n",
    "# Ich nutze den Zuweisungsoperator \"=\" und eckige Klammern [], um die Unterlisten von einander zu trennen.\n",
    "# (Die Argumente innerhalb der Liste sind alle vom Wert -> integer, also eine Ganzzahl.)\n",
    "# Diese Zuweisung ordnet somit der Variablen, einen Zeiger auf den Speicherort der Liste zu (sequentiell gelesen, daher nur die Anfangsadresse).\n",
    "# Da die Sublisten zwei verschiedene Werte beinhalten müssen (siehe systol./daist.) wird ein Paar von Blutdruckwerten \n",
    "# in Form einer Liste \"[systolisch, diastolisch]\" dargestellt.\n",
    "BT=[[120,82],[125,86],[117,79],[121,84]]\n",
    "# Ich nutze den print-Befehl, um die Liste BT auszugeben (der übersichtshalber innerhalb eckiger Klammern []).\n",
    "# -> sodass die einzelnen Indexpaare der Liste BT, in der Konsole ausgegeben werden.\n",
    "print(BT[0][0], BT[0][1], BT[1][0], BT[1][1], BT[2][0], BT[2][1], BT[3][0], BT[3][1])\n",
    "print('\\n') \n",
    "# Ich rufe den print()-Befehl auf, um die einzelnen Blutdruckwerte der Liste BT, in der Konsole auszugeben.\n",
    "# Die einzelnen Blutdruckwerte werden durch die Indizes der Liste BT angesprochen. \n",
    "# (Dabei ist noch anzumerken, dass diese eine Matrix-Struktur aufweisen; zwei Spalten und vier Zeilen.)\n",
    "# Die Indizes der Liste BT sind zweidimensional, da es sich um eine zweidimensionale Liste handelt.\n",
    "# Die print()-Funktion enthält jeweils 1 Argument. Dieses Argument ist ein großer Ausdruck (Konkatination) von Strings und typkonvertieren Variablen\n",
    "# Ebenfalls: Hier findet eine Verschachtelung von Funktionen statt. \n",
    "print('Blutdruckwerte 1:'+'\\n'+'systol.: '+str(BT[0][0])+' // diastol.: '+str(BT[0][1])+ '\\n')\n",
    "print('Blutdruckwerte 2:'+'\\n'+'systol.: '+str(BT[1][0])+' // diastol.: '+str(BT[1][1])+ '\\n')\n",
    "print('Blutdruckwerte 3:'+'\\n'+'systol.: '+str(BT[2][0])+' // diastol.: '+str(BT[2][1])+ '\\n')\n",
    "print('Blutdruckwerte 4:'+'\\n'+'systol.: '+str(BT[3][0])+' // diastol.: '+str(BT[3][1])+ '\\n')\n"
   ]
  }
 ],
 "metadata": {
  "kernelspec": {
   "display_name": "Python 3 (ipykernel)",
   "language": "python",
   "name": "python3"
  },
  "language_info": {
   "codemirror_mode": {
    "name": "ipython",
    "version": 3
   },
   "file_extension": ".py",
   "mimetype": "text/x-python",
   "name": "python",
   "nbconvert_exporter": "python",
   "pygments_lexer": "ipython3",
   "version": "3.11.5"
  }
 },
 "nbformat": 4,
 "nbformat_minor": 5
}
