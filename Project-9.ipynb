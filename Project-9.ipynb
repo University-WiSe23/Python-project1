{
 "cells": [
  {
   "cell_type": "markdown",
   "metadata": {},
   "source": [
    "Aufgabe 4 (Typ C) Schreiben Sie eine while-Schleife, welche von 10 „abwärts“ in 2er-Schritten bis 0 geht und die Zählvariable selbst sowie ihr Quadrat ausgibt"
   ]
  },
  {
   "cell_type": "code",
   "execution_count": 1,
   "metadata": {},
   "outputs": [
    {
     "name": "stdout",
     "output_type": "stream",
     "text": [
      "Zaehlvar.: 10\n",
      "zum Quadrat: 100\n",
      "Zaehlvar.: 8\n",
      "zum Quadrat: 64\n",
      "Zaehlvar.: 6\n",
      "zum Quadrat: 36\n",
      "Zaehlvar.: 4\n",
      "zum Quadrat: 16\n",
      "Zaehlvar.: 2\n",
      "zum Quadrat: 4\n",
      "Zaehlvar.: 0\n",
      "zum Quadrat: 0\n"
     ]
    }
   ],
   "source": [
    "Zählvariable=10\n",
    "\n",
    "while Zählvariable >=0:\n",
    "    print('Zaehlvar.: '+str(Zählvariable))\n",
    "    print('zum Quadrat: '+str(Zählvariable**2))\n",
    "    Zählvariable=(Zählvariable-2)"
   ]
  },
  {
   "cell_type": "markdown",
   "metadata": {},
   "source": [
    "Aufgabe 5 (Typ C) Verändern Sie das Programm von Übungsblatt 4, Aufg. 4 a)-c).Lösen Sie die Summation der Listenelemente mit Hilfe einer for-Schleife. Die Ausgabe soll etwa so aussehen wie im Übungsblatt 4 gezeigt.[Tipp: Wenn man der print-Funktion den Parameter end = \"\" übergibt, bleibt der Cursor bei der Ausführung der print-Funktion in der gleichen Zeile, macht also keinen Zeilensprung. Siehe Aufg. 2b]"
   ]
  },
  {
   "cell_type": "code",
   "execution_count": null,
   "metadata": {},
   "outputs": [],
   "source": [
    "#ÜB4 Aufgabe 4) a-c\n",
    "# a) Eine Liste mit 4 Elementen. \"liste\" ist der Zeiger auf den Speicherbereich, in dem die Liste gespeichert ist.\n",
    "liste = [2, 3, 54, 24]\n",
    "\n",
    "# b) Die Liste wird ausgegeben.\n",
    "print(liste)\n",
    "\n",
    "# c) Die Summe der Elemente der Liste wird berechnet und ausgegeben.\n",
    "print(\"Summe aus \"+ \"2 3 54 24\")\n",
    "print(\"=\", 2 + 3 + 54 + 24)"
   ]
  },
  {
   "cell_type": "code",
   "execution_count": null,
   "metadata": {},
   "outputs": [
    {
     "name": "stdout",
     "output_type": "stream",
     "text": [
      "Liste beinhaltet folgende Werte: [2, 3, 54, 24]\n",
      "Die Summe ergibt: 83\n"
     ]
    }
   ],
   "source": [
    "liste = [2, 3, 54, 24]\n",
    "print('Liste beinhaltet folgende Werte: '+str(liste))\n",
    "summe = 0\n",
    "\n",
    "for nummer in liste:\n",
    "    summe += nummer\n",
    "print('Die Summe ergibt: '+ str(summe))"
   ]
  },
  {
   "cell_type": "code",
   "execution_count": null,
   "metadata": {},
   "outputs": [],
   "source": [
    "#Musterlösung\n",
    "liste = [2, 3, 54, 24]\n",
    "print(\"Liste: \" + str(liste))\n",
    "summe = 0\n",
    "print (\"Summe aus \", end =\"\")\n",
    "for element in liste:\n",
    "print(str(element) + \"\\t\", end = \"\")\n",
    "summe += element\n",
    "print(\"\\n\\t= \" + str(summe))"
   ]
  },
  {
   "cell_type": "markdown",
   "metadata": {},
   "source": [
    "Aufgabe 6 (freiwillig, falls noch Zeit)\n",
    "Schreiben Sie ein Programm, das jedem Buchstaben eines von Ihnen festgelegten Wortes einen Schrägstrich anfügt. Benutzen Sie dazu eine for-Schleife. Am Bildschirm soll die ursprüngliche sowie die veränderte Zeichenkette ausgegeben werden also z.B.: Wort vor for-Schleife: Berlin Wort nach for-Schleife: B / E / R / L / I / N /\n",
    "(Berücksichtigen Sie auch hier wieder den Tipp von Aufgabe 5.)"
   ]
  },
  {
   "cell_type": "code",
   "execution_count": 2,
   "metadata": {},
   "outputs": [
    {
     "name": "stdout",
     "output_type": "stream",
     "text": [
      "B / e / r / l / i / n / "
     ]
    }
   ],
   "source": [
    "stadt='Berlin'\n",
    "\n",
    "for buchstabe in stadt:\n",
    "    print(str(buchstabe)+' / ', end='')\n",
    "\n",
    "# Für jeden Buchstaben in der Variable \"stadt\" wird der Buchstabe ausgegeben und ein \"/\" angehängt.\n",
    "# Das \"end=''\" sorgt dafür, dass nach jedem Buchstaben ein Leerzeichen ausgegeben wird, anstatt eines \n",
    "# Zeilenumbruchs.\n",
    "\n",
    "# Ablauf der Schleife: für jedes Element in der Variable \"stadt\" wird die Schleife ausgeführt\n",
    "# 1. Durchlauf: buchstabe = 'B' -> jetzt wird der Buchstabe ausgegeben und ein \"/\" angehängt mit \n",
    "# der print Funktion"
   ]
  }
 ],
 "metadata": {
  "kernelspec": {
   "display_name": "base",
   "language": "python",
   "name": "python3"
  },
  "language_info": {
   "codemirror_mode": {
    "name": "ipython",
    "version": 3
   },
   "file_extension": ".py",
   "mimetype": "text/x-python",
   "name": "python",
   "nbconvert_exporter": "python",
   "pygments_lexer": "ipython3",
   "version": "3.11.5"
  }
 },
 "nbformat": 4,
 "nbformat_minor": 2
}
