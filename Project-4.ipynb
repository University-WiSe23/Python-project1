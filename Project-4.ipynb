{
 "cells": [
  {
   "cell_type": "markdown",
   "id": "ba87ce45",
   "metadata": {},
   "source": [
    "Aufgabe 4 (Typ C)\n",
    "a) Erzeugen Sie in einer Notebook-Zelle eine Liste liste mit vier Ganzzahlen\n",
    "b) Geben Sie liste am Bildschirm aus\n",
    "c) Danach sollen alle Listenelemente aufsummiert und ein entsprechender Satz, der die einzelnen Listenwerte und die Summe enthält, am Bildschirm ausgegeben werden. Beim Aufsummieren soll zunächst keine Funktion (sum) verwendet, sondern eine einfache Addition der Listenelemente mit Additionsoperatoren durchgeführt werden. Die Ausgabe sollte also etwa folgendermaßen aussehen:\n",
    "[2, 3, 54, 24]\n",
    "Summe aus 2 3 54 24\n",
    "= 83\n",
    "Benutzen Sie bei d)-f) jeweils die entsprechenden Listenfunktionen und geben Sie das Erfragte am Bildschirm aus:\n",
    "d) Fügen Sie den Wert 3 als weiteres Listenelement hinzu und lassen Sie erneut die Summe aller Listenelemente errechnen (mit Hilfe der entsprechenden Funktion).\n",
    "e) Lassen Sie ermitteln, bei welchem Index das erste Mal der Wert 3 in der Liste auftritt.\n",
    "f) Lassen Sie ermitteln, wie viele Elemente die Liste aktuell hat.\n",
    "g) Lassen Sie das zuletzt zugefügte Element wieder herausnehmen; geben Sie dieses Element sowie die neu entstandene Liste am Bildschirm aus."
   ]
  },
  {
   "cell_type": "code",
   "execution_count": 7,
   "id": "7662e031",
   "metadata": {},
   "outputs": [
    {
     "name": "stdout",
     "output_type": "stream",
     "text": [
      "[2, 3, 54, 24]\n",
      "Summe aus 2 3 54 24\n",
      "= 83\n",
      "Summe aller Listenelemente: 86\n",
      "Index des ersten Auftretens von 3: 1\n",
      "Anzahl der Elemente in der Liste: 5\n",
      "Entferntes Element: 3\n",
      "Neue Liste: [2, 3, 54, 24]\n"
     ]
    }
   ],
   "source": [
    "# a) Eine Liste mit 4 Elementen. \"liste\" ist der Zeiger auf den Speicherbereich, in dem die Liste gespeichert ist.\n",
    "liste = [2, 3, 54, 24]\n",
    "\n",
    "# b) Die Liste wird ausgegeben.\n",
    "print(liste)\n",
    "\n",
    "# c) Die Summe der Elemente der Liste wird berechnet und ausgegeben.\n",
    "print(\"Summe aus \"+ \"2 3 54 24\")\n",
    "print(\"=\", 2 + 3 + 54 + 24)\n",
    "\n",
    "# d) Die Ziffer 3 wird durch die .append()-Methode an die Liste angehängt. \n",
    "# Die sum()-Funktion berechnet die Summe der Elemente der Liste und gibt diese aus.\n",
    "liste.append(3)\n",
    "summe = sum(liste)\n",
    "print(\"Summe aller Listenelemente:\", summe)\n",
    "\n",
    "# e) Die .index()-Methode gibt den Index des ersten Auftretens des Elements 3 in der Liste zurück.\n",
    "index = liste.index(3)\n",
    "print(\"Index des ersten Auftretens von 3:\", index)\n",
    "\n",
    "# f) Die len()-Funktion gibt die Anzahl der Elemente in der Liste zurück.\n",
    "laenge = len(liste)\n",
    "print(\"Anzahl der Elemente in der Liste:\", laenge)\n",
    "\n",
    "# g) Die .pop()-Methode entfernt das letzte Element der Liste und gibt dieses zurück\n",
    "entferntes_element = liste.pop()\n",
    "print(\"Entferntes Element:\", entferntes_element)\n",
    "print(\"Neue Liste:\", liste)"
   ]
  }
 ],
 "metadata": {
  "kernelspec": {
   "display_name": "Python 3 (ipykernel)",
   "language": "python",
   "name": "python3"
  },
  "language_info": {
   "codemirror_mode": {
    "name": "ipython",
    "version": 3
   },
   "file_extension": ".py",
   "mimetype": "text/x-python",
   "name": "python",
   "nbconvert_exporter": "python",
   "pygments_lexer": "ipython3",
   "version": "3.11.5"
  }
 },
 "nbformat": 4,
 "nbformat_minor": 5
}
