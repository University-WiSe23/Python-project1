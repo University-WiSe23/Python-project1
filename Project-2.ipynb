{
 "cells": [
  {
   "cell_type": "markdown",
   "id": "31f1f629",
   "metadata": {},
   "source": [
    "Aufgabe 6 (Typ C)\n",
    "a) Schreiben Sie in einer Notebook-Zelle ein Programm, in dem einer Variablen eine Dezimalzahl\n",
    "zugewiesen wird. Danach soll diese Zahl als Dezimalzahl sowie als Ganzzahl (innerhalb eines\n",
    "Antwortsatzes) am Bildschirm ausgegeben werden. Die Ganzzahl soll durch Typkonvertierung\n",
    "erhalten werden\n",
    "b) Schreiben Sie in einer weiteren Zelle ein Programm, in dem jetzt der Benutzer aufgefordert wird,\n",
    "eine Dezimalzahl einzugeben. Die vom Benutzer eingegebene Zahl soll als Dezimalzahl in einer\n",
    "Variablen gespeichert werden. (Benutzen Sie dabei die input()-Funktion und denken Sie daran, dass\n",
    "die input-Funktion die eingegebene Zahl zunächst als string zurückliefert und sie deshalb zunächst\n",
    "typkonvertiert werden muss.)\n",
    "Danach soll diese Zahl wieder als Dezimalzahl sowie als Ganzzahl (innerhalb eines Antwortsatzes)\n",
    "am Bildschirm ausgegeben werden.\n",
    "c) Ergänzen Sie Ihr Programm aus b), indem Sie den Rechner (durch die entsprechende Funktion)\n",
    "überprüfen lassen, welchen Datentyp die von Ihnen verwendete Variable hat. Geben Sie also auch den\n",
    "Datentyp innerhalb eines Antwortsatzes am Bildschirm aus."
   ]
  },
  {
   "cell_type": "markdown",
   "id": "6fdb3cee",
   "metadata": {},
   "source": [
    "Aufgabe 6a) \n",
    "Syntax: \n",
    "Variable \"Metall_Abfall\" wird mit dem Zuweisungs-Operator = der Wert 2.5 zugewiesen.\n",
    "Variable \"Haushälte\", Zuweisungs-Operator =, Funktionsaufruf \"int(), Variable \"Metall_Abfall\", Funktionsaufruf print() und explizite Typkonvertierung durch den Funktionsaufruf str()\n",
    "Semantik: \n",
    "Der Variable Metal_Abfall weise ich durch den Zuweisungs-Operator (=) den Float-Wert 2.5 zu, daher nimmt die Variable den Datentyp: Float-Wert an.\n",
    "Der Variable \"Haushälte\" weise ich den Wert der Variable \"Metall_Abfall\" mit dem Datentyp Integer durch eine explizite Datentypkonvertierung zu.\n",
    "Durch den Funktionsaufruf print() werden die enthaltenen Argumente kokateniert."
   ]
  },
  {
   "cell_type": "code",
   "execution_count": 18,
   "id": "0cda9cce",
   "metadata": {},
   "outputs": [
    {
     "name": "stdout",
     "output_type": "stream",
     "text": [
      "Die Dezimalzahl zuerst: 2.5. Und danach dann die Typkonvertierung: 2\n"
     ]
    }
   ],
   "source": [
    "# Aufgabe 6a)\n",
    "Metall_Abfall = 2.5\n",
    "Haushälte = int(Metall_Abfall)\n",
    "print(\"Die Dezimalzahl zuerst: \"+str(Metall_Abfall )+\". Und danach dann die Typkonvertierung: \"+ str(Haushälte))"
   ]
  },
  {
   "cell_type": "markdown",
   "id": "81bd6722",
   "metadata": {},
   "source": [
    "Syntax: \n",
    "Variable \"Eingabe\" wird mit dem Zuweisungs-Operator = der Funktionsaufruf input() mit einem string-Wert zugewiesen\n",
    "+Variable \"Dezimalzahl\", Zuweisungs-Operator =, Funktionsaufruf float(), Variable \"Eingabe\", \n",
    "+Variable \"Ganzzahl\" und explizite Typkonvertierung durch den Funktionsaufruf int()\n",
    "+Funktionsaufruf print() führt mehrere Argumente auf\n",
    "Semantik: \n",
    "Der Variable Eingabe weise ich durch den Zuweisungs-Operator (=) den Wert zu, den der Benutzer durch die input()-Funktion eingibt. Der Variable weise ich den Float-Wert, der durch den vorherigen input()-Funktion angegeben wurde.\n",
    "Diesen Wert konvertiere ich explizit in einen integer-Wert durch int() und drucke durch die Funktion print() beide Werte, die beide in string konvertiert wurden.\n",
    "Die enthaltenen Argumente kokateniere ich durch +."
   ]
  },
  {
   "cell_type": "markdown",
   "id": "a3a881e7",
   "metadata": {},
   "source": [
    "Aufgabe 6b)"
   ]
  },
  {
   "cell_type": "code",
   "execution_count": 27,
   "id": "a21e61de",
   "metadata": {},
   "outputs": [
    {
     "name": "stdout",
     "output_type": "stream",
     "text": [
      "Bitte geben Sie eine Dezimalzahl an 1.5\n",
      "Jetzt kommt zuerst die Dezimalzahl: 1.5 Und nun die Ganzzahl: 1\n"
     ]
    }
   ],
   "source": [
    "# Aufgabe 6b)\n",
    "Eingabe = input(\"Bitte geben Sie eine Dezimalzahl an \")\n",
    "Dezimalzahl = float(Eingabe)\n",
    "Ganzzahl = int(Dezimalzahl)\n",
    "print(\"Jetzt kommt zuerst die Dezimalzahl: \"+str(Dezimalzahl)+\" Und nun die Ganzzahl: \"+str(Ganzzahl))"
   ]
  },
  {
   "cell_type": "markdown",
   "id": "b988d93a",
   "metadata": {},
   "source": [
    "+ Funktionsaufruf type(), geben zusätzlich den jeweiligen Datentyp an"
   ]
  },
  {
   "cell_type": "markdown",
   "id": "08c1f54c",
   "metadata": {},
   "source": [
    "Aufgabe 6c)"
   ]
  },
  {
   "cell_type": "code",
   "execution_count": 31,
   "id": "2845a6a1",
   "metadata": {},
   "outputs": [
    {
     "name": "stdout",
     "output_type": "stream",
     "text": [
      "Bitte geben Sie eine Dezimalzahl an 2.5\n",
      "Jetzt kommt zuerst die Dezimalzahl: 2.5<class 'float'> Und nun die Ganzzahl: 2<class 'int'>\n"
     ]
    }
   ],
   "source": [
    "# Aufgabe 6c)\n",
    "Eingabe = input(\"Bitte geben Sie eine Dezimalzahl an \")\n",
    "Dezimalzahl = float(Eingabe)\n",
    "Ganzzahl = int(Dezimalzahl)\n",
    "print(\"Jetzt kommt zuerst die Dezimalzahl: \"+\n",
    "      str(Dezimalzahl)+str(type(Dezimalzahl))+\n",
    "      \" Und nun die Ganzzahl: \"+str(Ganzzahl)+str(type(Ganzzahl)))"
   ]
  }
 ],
 "metadata": {
  "kernelspec": {
   "display_name": "Python 3 (ipykernel)",
   "language": "python",
   "name": "python3"
  },
  "language_info": {
   "codemirror_mode": {
    "name": "ipython",
    "version": 3
   },
   "file_extension": ".py",
   "mimetype": "text/x-python",
   "name": "python",
   "nbconvert_exporter": "python",
   "pygments_lexer": "ipython3",
   "version": "3.11.4"
  }
 },
 "nbformat": 4,
 "nbformat_minor": 5
}
