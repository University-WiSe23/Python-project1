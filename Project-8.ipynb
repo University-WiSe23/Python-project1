{
 "cells": [
  {
   "cell_type": "markdown",
   "metadata": {},
   "source": [
    "Aufgabe 4 (Typ C)\n",
    "Schreiben Sie ein Programm, welches überprüft, ob ein Guthaben größer als 1000000 Euro ist, und in\n",
    "diesem Falle den Satz \"Gratuliere, Du bist Millionaer!\" auf dem Bildschirm ausgibt. (Weisen Sie dabei\n",
    "zunächst der Variablen guthaben einen Wert zu oder ermöglichen Sie über die input-Methode für den\n",
    "Benutzer eine flexible Zahleingabe.)"
   ]
  },
  {
   "cell_type": "code",
   "execution_count": null,
   "metadata": {},
   "outputs": [
    {
     "name": "stdout",
     "output_type": "stream",
     "text": [
      "Sie sind noch kein Millionaer!\n"
     ]
    }
   ],
   "source": [
    "guthaben = input(\"Bitte geben Sie Ihren momentanen Kontostand an \")\n",
    "guthaben = int(guthaben)\n",
    "if guthaben > 1000000:\n",
    "    print(\"Gratuliere, Sie sind Millionaer!\")\n",
    "else:\n",
    "    print(\"Sie sind noch kein Millionaer!\")"
   ]
  },
  {
   "cell_type": "markdown",
   "metadata": {},
   "source": [
    "Aufgabe 5 (Typ C)\n",
    "Bei der Versicherung Wucherpfennig richtet sich der Versicherungsbeitrag (Prämie) nach der Höhe der Versicherungssumme. \n",
    "Schreiben Sie ein Programm, das pro Versicherungssumme, die vom Benutzer eingegeben werden soll, die jährliche Prämie entsprechend folgender Prämiensätze berechnet und \n",
    "(auf max. zwei Nachkommastellen gerundet) in einem Antwortsatz ausgibt:\n",
    "Bei einer Versicherungssumme bis einschl. 5000 Euro beträgt der Prämiensatz 16.8%, \n",
    "bei einer Versicherungssumme, die zwischen 5000 (ausschl.) und 10000 Euro liegt, beträgt der Prämiensatz 12.6% \n",
    "und über 10000 Euro sind es 8.4 %.\n",
    "\n",
    "Also Beispiel für Ausgabe:\n",
    "Geben Sie die Versicherungssumme ein: 100\n",
    "Versicherungssumme = 100.0\n",
    "Versicherungspraemie = 16.8"
   ]
  },
  {
   "cell_type": "code",
   "execution_count": null,
   "metadata": {},
   "outputs": [
    {
     "name": "stdout",
     "output_type": "stream",
     "text": [
      "Versicherungssumme =  2\n",
      "Versicherungsprämie = 16.8%\n"
     ]
    }
   ],
   "source": [
    "Versicherungssumme = input('Geben Sie Ihre Versicherungssumme ein: ')\n",
    "Versicherungssumme = int(Versicherungssumme)\n",
    "\n",
    "if Versicherungssumme <= 5000:\n",
    "    print(\"Versicherungssumme = \",Versicherungssumme)\n",
    "    print(\"Versicherungsprämie = 16.8%\")\n",
    "elif Versicherungssumme > 5000 and Versicherungssumme <= 10000:\n",
    "    print(\"Versicherungssumme = \",Versicherungssumme)\n",
    "    print(\"Versicherungsprämie = 12.6%\")\n",
    "elif Versicherungssumme > 10000:\n",
    "    print(\"Versicherungssumme = \",Versicherungssumme)\n",
    "    print(\"Versicherungsprämie = 18.4%\")\n"
   ]
  },
  {
   "cell_type": "markdown",
   "metadata": {},
   "source": [
    "Aufgabe 6 (freiwillig, falls noch Zeit, Typ C)\n",
    "Schreiben Sie ein Programm, durch das die Zeichenketten \"mit Auszeichnung\", \"bestanden\", \"nicht\n",
    "bestanden\" je nach Wert der Variablen note (zwischen 1 und 5) am Bildschirm ausgegeben werden.\n",
    "Wenn note den Wert 1 hat, soll \"mit Auszeichnung\", bei note = 5 die Zeichenkette \"nicht bestanden\",\n",
    "in allen anderen Fällen \"bestanden\" ausgegeben werden. "
   ]
  },
  {
   "cell_type": "code",
   "execution_count": null,
   "metadata": {},
   "outputs": [
    {
     "name": "stdout",
     "output_type": "stream",
     "text": [
      "Nicht bestanden\n"
     ]
    }
   ],
   "source": [
    "note=input('Geben Sie bitte Ihre erreichte Note an: ')\n",
    "note=int(note)\n",
    "\n",
    "if note==1:\n",
    "    print('Bestanden mit Auszeichnung')\n",
    "elif note<5:\n",
    "    print('Bestanden')\n",
    "elif note==5:\n",
    "    print('Nicht bestanden')"
   ]
  }
 ],
 "metadata": {
  "language_info": {
   "name": "python"
  }
 },
 "nbformat": 4,
 "nbformat_minor": 2
}
