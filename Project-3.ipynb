{
 "cells": [
  {
   "cell_type": "markdown",
   "id": "5da08a1a",
   "metadata": {},
   "source": [
    "Aufgabe 4 (Typ C)\n",
    "a) Schreiben Sie in einer Notebook-Zelle den Code von Aufgabe 2. Um nochmal zu prüfen, ob IhreAntworten von Aufg. 2 korrekt waren, überprüfen Sie jede Zeile mit Hilfe der print-Funktion.\n",
    "b) Fügen Sie an die zuletzt erhaltene Liste eine Liste mit den Elementen 3 und 7 an.\n",
    "c) Löschen Sie das 2 – 4. Element der Liste, die sich aus b) ergibt.\n",
    "d) Ersetzen Sie das 2. Element der Liste, die sich aus c) ergibt, durch 8\n",
    "e) Überprüfen Sie bei b) – d) jeweils durch eine print-Anweisung, ob Sie korrekt vorgegangen sind"
   ]
  },
  {
   "cell_type": "markdown",
   "id": "06262b6d",
   "metadata": {},
   "source": [
    "a) Schreiben Sie in einer Notebook-Zelle den Code von Aufgabe 2. Um nochmal zu prüfen, ob Ihre Antworten von Aufg. 2 korrekt waren, überprüfen Sie jede Zeile mit Hilfe der print-Funktion."
   ]
  },
  {
   "cell_type": "code",
   "execution_count": null,
   "id": "287bb17b",
   "metadata": {},
   "outputs": [],
   "source": [
    "#a) liste[1:2]\n",
    "liste=[6,2,5]\n",
    "print(liste[1:2])\n",
    "#Nur Index 1 wurde ausgewählt (daher = 2)"
   ]
  },
  {
   "cell_type": "code",
   "execution_count": null,
   "id": "1c87497f",
   "metadata": {},
   "outputs": [],
   "source": [
    "#b) liste [1:]\n",
    "liste=[6,2,5]\n",
    "print(liste[1:])\n",
    "#Alle Indezis vom Index 1 ausgehend (daher =5)"
   ]
  },
  {
   "cell_type": "code",
   "execution_count": null,
   "id": "31d98868",
   "metadata": {},
   "outputs": [],
   "source": [
    "#c) liste [:1]\n",
    "liste=[6,2,5]\n",
    "print(liste[:1])\n",
    "#Alle Indezis bis zum Index 1 (daher =6)"
   ]
  },
  {
   "cell_type": "code",
   "execution_count": null,
   "id": "8dcbaf92",
   "metadata": {},
   "outputs": [],
   "source": [
    "#d) liste [-1]=4\n",
    "liste=[6,2,5]\n",
    "liste[-1]=4\n",
    "print(liste)\n",
    "#Negativer Index -1 gibt die Stelle innerhalb der Liste an, wo der Eintrag mit 4 ersetzt wird (Zuweisung)"
   ]
  },
  {
   "cell_type": "code",
   "execution_count": null,
   "id": "293a282b",
   "metadata": {},
   "outputs": [],
   "source": [
    "#e) liste [0]\n",
    "liste=[6,2,5]\n",
    "liste[0] = 1\n",
    "print(liste[0])\n",
    "#Index 0 soll nun zur Nummer 1 zugewiesen werden, daher der Wert innerhalb der Stelle ändert sich zu 1"
   ]
  },
  {
   "cell_type": "code",
   "execution_count": null,
   "id": "4188134b",
   "metadata": {},
   "outputs": [],
   "source": [
    "#f) liste=liste+[4,2]\n",
    "liste=[6,2,5]\n",
    "liste = liste + [4, 2] \n",
    "print(liste)\n",
    "#Hier werden der Liste die zwei int-Werte 4 und 2 in der angegebenen Reihenfolge angehängt"
   ]
  },
  {
   "cell_type": "code",
   "execution_count": null,
   "id": "922f12fe",
   "metadata": {},
   "outputs": [],
   "source": [
    "#g) liste \n",
    "liste=[6,2,5, 4, 2]\n",
    "del(liste[3])\n",
    "print(liste)\n",
    "#Hier wird durch den Funktionsaufruf del() der Listeneintrag mit dem Index-Wert 3 gelöscht, die Liste \"rutscht\" nach links"
   ]
  },
  {
   "cell_type": "code",
   "execution_count": null,
   "id": "70a46409",
   "metadata": {},
   "outputs": [],
   "source": [
    "#Zusammenfügung aller Aufgaben a)-e)\n",
    "liste=[6,2,5]\n",
    "print(liste[1:2])\n",
    "\n",
    "liste=[6,2,5]\n",
    "print(liste[1:])\n",
    "\n",
    "liste=[6,2,5]\n",
    "print(liste[:1])\n",
    "\n",
    "liste=[6,2,5]\n",
    "liste[-1]=4\n",
    "\n",
    "liste=[6,2,5]\n",
    "liste[0] = 1\n",
    "print(liste[0])\n",
    "\n",
    "liste=[6,2,5]\n",
    "liste = liste + [4, 2]\n",
    "\n",
    "del(liste[3])\n",
    "print(liste)\n",
    "\n",
    "#b) Fügen Sie an die zuletzt erhaltene Liste eine Liste mit den Elementen 3 und 7 an.\n",
    "liste_2=[3,7]\n",
    "liste_3=liste + liste_2\n",
    "print(liste_3)\n",
    "\n",
    "#c) Löschen Sie das 2 – 4. Element der Liste, die sich aus b) ergibt\n",
    "del(liste_3[1:5])\n",
    "print(liste_3)\n",
    "\n",
    "#d) Ersetzen Sie das 2. Element der Liste, die sich aus c) ergibt, durch 8\n",
    "liste_3[1]=8\n",
    "print(liste_3)\n",
    "\n",
    "#e) Überprüfen Sie bei b) – d) jeweils durch eine print-Anweisung, ob Sie korrekt vorgegangen sind\n"
   ]
  },
  {
   "cell_type": "markdown",
   "id": "d9bf0f32",
   "metadata": {},
   "source": [
    "print(liste=[6,2,5])\n",
    "Syntax: Der Variable wird eine Liste, durch den Zuweisungsoperator (=), zugewiesen. Der erste Operand ist \"liste\" und der zweite dadurch die Aufzählung der Listeninhalte. Der Funktionsaufruf print() gibt somit die liste am Bildschirm aus. Die Listeninhalte sind durch Kommata getrennt und haben alle den Datentypen integer.\n",
    "Semantik: Dem Speicherplatz innerhalb des Computers wird die Variable \"liste\" zugewiesen, daher zeigt liste auf einen konkreten Speicherort, die Listenwerte zeigen somit ebenfalls auf den Speicherplatz."
   ]
  }
 ],
 "metadata": {
  "kernelspec": {
   "display_name": "Python 3 (ipykernel)",
   "language": "python",
   "name": "python3"
  },
  "language_info": {
   "codemirror_mode": {
    "name": "ipython",
    "version": 3
   },
   "file_extension": ".py",
   "mimetype": "text/x-python",
   "name": "python",
   "nbconvert_exporter": "python",
   "pygments_lexer": "ipython3",
   "version": "3.11.4"
  }
 },
 "nbformat": 4,
 "nbformat_minor": 5
}
