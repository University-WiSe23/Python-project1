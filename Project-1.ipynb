{
 "cells": [
  {
   "cell_type": "markdown",
   "metadata": {},
   "source": [
    "Aufgabe 1b) Um einer Variable einen Wert zuzuweisen, brauchen wir einen aussagekräftigen Begriff.\n",
    "Die Variable \"Oma_Gertrud\" wird als string in der print-Funktion ausgegeben."
   ]
  },
  {
   "cell_type": "markdown",
   "metadata": {},
   "source": [
    "Syntax: \n",
    "Der Variable (Oma_Gertrud) wird durch den assign-operator \"=\" ein String \"Papa's Mutter\" zugewiesen.\n",
    "Der \"print\"-Operator gibt den eingegebenen String \"Wer ist deine Oma?\" und den string der variable Oma_gertrud, sowie den eingegebenen string \"Das wusste ich schon!\" aus.\n",
    "Datentyp: variable, operatorn (print, assign), string."
   ]
  },
  {
   "cell_type": "markdown",
   "metadata": {},
   "source": [
    "Semantik: \n",
    "Durch die Zuweisung des strings \"Papa's Mutter\" der Variable \"Oma_Gertrud\", wird bei der print-Funktion der Variable der string ausgegeben. In Kombination mit weiteren strings, bildet sich so ein Absatz zusammen, der als ganzes eine kleine Konversation abbildet.\n",
    "Einer Speichereinheit \"Oma_Gertrud\" wird ein Wert als string zugewiesen, dieser wird in binären Code umgewandelt und dann gespeichert."
   ]
  },
  {
   "cell_type": "code",
   "execution_count": null,
   "metadata": {},
   "outputs": [
    {
     "name": "stdout",
     "output_type": "stream",
     "text": [
      "Wer ist deine Oma?\n",
      "Papa's Mutter\n",
      "Das wusste ich!\n"
     ]
    }
   ],
   "source": [
    "Oma_Gertrud=\"Papa's Mutter\"\n",
    "print(\"Wer ist deine Oma?\")\n",
    "print(Oma_Gertrud)\n",
    "print(\"Das wusste ich!\")"
   ]
  },
  {
   "cell_type": "markdown",
   "metadata": {},
   "source": [
    "Aufgabe 1c) \"Initialisierung\" = Prozess der Vorbereitung oder Einrichtung von Variablen, Objekten oder Datenstrukturen, bevor sie verwendet werden. \n",
    "Auch: eine erste Zuweisung einer Variable nennt sich Initialisierung"
   ]
  },
  {
   "cell_type": "code",
   "execution_count": null,
   "metadata": {},
   "outputs": [
    {
     "name": "stdout",
     "output_type": "stream",
     "text": [
      "0\n"
     ]
    }
   ],
   "source": [
    "Meine_Motivation = 0\n",
    "print(Meine_Motivation)\n",
    "# Hier wird die Variable \"Meine_Motivation\" auf den Anfangswert 0 initialisiert."
   ]
  },
  {
   "cell_type": "markdown",
   "metadata": {},
   "source": [
    "Aufgabe 1e) Welcher Datentyp für Zeichenketten?\n",
    "In Python wird dafür der Datentyp string (str) genutzt, durch Anführungszeichen “xxx” kann somit eine Zeichenkette beschrieben werden."
   ]
  },
  {
   "cell_type": "code",
   "execution_count": null,
   "metadata": {},
   "outputs": [
    {
     "name": "stdout",
     "output_type": "stream",
     "text": [
      "<class 'str'>\n"
     ]
    }
   ],
   "source": [
    "Meine_Kraft = \"Ich habe wirklich keine Energie mehr.\"\n",
    "print(type(Meine_Kraft))"
   ]
  },
  {
   "cell_type": "markdown",
   "metadata": {},
   "source": [
    "Aufgabe 1f) \\n und \\t"
   ]
  },
  {
   "cell_type": "code",
   "execution_count": null,
   "metadata": {},
   "outputs": [
    {
     "name": "stdout",
     "output_type": "stream",
     "text": [
      "Nach diesem Satz folgt ein Umbruch und ein zweiter Satz.\n",
      "Jetzt sind wir im nächsten Satz.\n",
      "Hier versuche ich das Esc-Command t\tWie sieht das aus?\n"
     ]
    }
   ],
   "source": [
    "print(\"Nach diesem Satz folgt ein Umbruch und ein zweiter Satz.\\nJetzt sind wir im nächsten Satz.\")\n",
    "print(\"Hier versuche ich das Esc-Command t\\tWie sieht das aus?\")"
   ]
  },
  {
   "cell_type": "code",
   "execution_count": null,
   "metadata": {},
   "outputs": [
    {
     "name": "stdout",
     "output_type": "stream",
     "text": [
      "Hello\n",
      "world\n"
     ]
    }
   ],
   "source": [
    "print(\"Hello\"+\"\\n\"+\"world\")\n",
    "# Der Operator print druckt den string \"Hello\" und \"world\" eigentlich zusammen, durch den escape-operator \n",
    "# (der es auch ermöglicht \"illegale\" Zeichen in strings anzuwenden) \\n wird ein neuer Absatz \\n = new line"
   ]
  },
  {
   "cell_type": "markdown",
   "metadata": {},
   "source": [
    "3b) Schreiben Sie ein Programm, dass jeweils die in Aufg. a) gegebenen Ausdrücke berechnet/auswertet\n",
    "und das Ergebnis jeweils einer Variablen zuweist und danach am Bildschirm ausgibt"
   ]
  },
  {
   "cell_type": "code",
   "execution_count": null,
   "metadata": {},
   "outputs": [],
   "source": [
    "# a) \"Hello\"+\" World\" \n",
    "Welcome=\"Hello\"+\" World\"\n",
    "print(Welcome)"
   ]
  },
  {
   "cell_type": "code",
   "execution_count": null,
   "metadata": {},
   "outputs": [],
   "source": [
    "# b) \"Hello\"+\"\\n\"+\" World\"\n",
    "Welcome2=\"Hello\"+\"\\n\"+\" World\"\n",
    "print(Welcome2)"
   ]
  },
  {
   "cell_type": "code",
   "execution_count": null,
   "metadata": {},
   "outputs": [],
   "source": [
    "# c) \"Hello\"+\"\\t\"+\" World\"\n",
    "Welcome3=\"Hello\"+\"\\t\"+\" World\"\n",
    "print(Welcome3)"
   ]
  },
  {
   "cell_type": "code",
   "execution_count": null,
   "metadata": {},
   "outputs": [],
   "source": [
    "# d) 4 + 5\n",
    "Nein=4+5\n",
    "print(Nein)"
   ]
  },
  {
   "cell_type": "code",
   "execution_count": null,
   "metadata": {},
   "outputs": [],
   "source": [
    "# e) 4.0 + 5 \n",
    "Ne_in=4.0+5\n",
    "print(Ne_in)"
   ]
  },
  {
   "cell_type": "code",
   "execution_count": null,
   "metadata": {},
   "outputs": [],
   "source": [
    "# f) 2/4\n",
    "Ein_halb=2/4\n",
    "print(Ein_halb)"
   ]
  },
  {
   "cell_type": "code",
   "execution_count": null,
   "metadata": {},
   "outputs": [],
   "source": [
    "# g) 2.0/4 \n",
    "Kein_halb_oder_vielleicht_doch=2.0/4\n",
    "print(Kein_halb_oder_vielleicht_doch)"
   ]
  },
  {
   "cell_type": "code",
   "execution_count": null,
   "metadata": {},
   "outputs": [
    {
     "name": "stdout",
     "output_type": "stream",
     "text": [
      "2\n"
     ]
    }
   ],
   "source": [
    "# h) 5//2\n",
    "Kindergarten_Knobelei=5//2\n",
    "print(Kindergarten_Knobelei)"
   ]
  },
  {
   "cell_type": "code",
   "execution_count": null,
   "metadata": {},
   "outputs": [],
   "source": [
    "# i) 10%3\n",
    "Modulos_die_ich_nicht_machen_will=10%3\n",
    "print(Modulos_die_ich_nicht_machen_will)"
   ]
  },
  {
   "cell_type": "code",
   "execution_count": null,
   "metadata": {},
   "outputs": [],
   "source": [
    "# j) 3**2\n",
    "drei_hoch_zwei=3**2\n",
    "print(drei_hoch_zwei)"
   ]
  },
  {
   "cell_type": "markdown",
   "metadata": {},
   "source": [
    "Aufg.4) Schreiben Sie ein Programm, dass die Anzahl der Sekunden im Monat Januar berechnet (31*24*60*60) und am Bildschirm mit einem passenden Antwortsatz ausgibt. Verwenden Sie auch hierbei eine Variable."
   ]
  },
  {
   "cell_type": "code",
   "execution_count": null,
   "metadata": {},
   "outputs": [
    {
     "name": "stdout",
     "output_type": "stream",
     "text": [
      "2678400\n"
     ]
    }
   ],
   "source": [
    "print(31*24*60*60)"
   ]
  },
  {
   "cell_type": "markdown",
   "metadata": {},
   "source": [
    "Oben habe ich mir durch den print-Operator die Sekundenanzahl im Monat Januar angeschaut.\n",
    "Unten habe ich die Variable \"Januar_alle_Sekunden\" mit der erechneten Sekundenzahl initialisiert."
   ]
  },
  {
   "cell_type": "code",
   "execution_count": null,
   "metadata": {},
   "outputs": [
    {
     "name": "stdout",
     "output_type": "stream",
     "text": [
      "Wisst ihr eigentlich wie viel Zeit ihr in der Woche habt?\n",
      "...ehrlich gesagt, gar keine Ahnung.\n",
      "Tja, wenn du die Übungsaufgaben von Matthias machen würdest, wüsstest du sowas!\n",
      "Jetzt sag es doch bitte!\n",
      "Insgesamt sind es 2678400 Sekunden.\n"
     ]
    }
   ],
   "source": [
    "Januar_alle_Sekunden=31*24*60*60\n",
    "print(\"Wisst ihr eigentlich wie viel Zeit ihr in der Woche habt?\"+\"\\n\"+\"...ehrlich gesagt, gar keine Ahnung.\"+\"\\n\"+\n",
    "      \"Tja, wenn du die Übungsaufgaben von Matthias machen würdest, wüsstest du sowas!\"+\"\\n\"+\"Jetzt sag es doch bitte!\"+\n",
    "     \"\\n\"+\"Insgesamt sind es\",Januar_alle_Sekunden,\"Sekunden.\")"
   ]
  },
  {
   "cell_type": "markdown",
   "metadata": {},
   "source": [
    "Dann habe ich durch den print-Operator mehrere strings mit Absätzen verbunden und am Ende die Variable als integer, durch ein Komma, eingesetzt.\n",
    "Unten habe ich dann den Datentyp von dem definierten integer (der, der Variablen zugewiesen ist), durch ein \"str()\" in string konvertiert und dann durch ein + konkateniert."
   ]
  },
  {
   "cell_type": "code",
   "execution_count": null,
   "metadata": {},
   "outputs": [
    {
     "name": "stdout",
     "output_type": "stream",
     "text": [
      "Wisst ihr eigentlich wie viel Zeit ihr in der Woche habt?\n",
      "...ehrlich gesagt, gar keine Ahnung.\n",
      "Tja, wenn du die Übungsaufgaben von Matthias machen würdest, wüsstest du sowas!\n",
      "Jetzt sag es doch bitte...\n",
      "Insgesamt sind es 2678400 Sekunden, krass oder?\n"
     ]
    }
   ],
   "source": [
    "Januar_alle_Sekunden=31*24*60*60\n",
    "print(\"Wisst ihr eigentlich wie viel Zeit ihr in der Woche habt?\"+\"\\n\"+\"...ehrlich gesagt, gar keine Ahnung.\"+\"\\n\"+\n",
    "      \"Tja, wenn du die Übungsaufgaben von Matthias machen würdest, wüsstest du sowas!\"+\"\\n\"+\"Jetzt sag es doch bitte...\"+\n",
    "     \"\\n\"+\"Insgesamt sind es \"+str(Januar_alle_Sekunden)+\" Sekunden, krass oder?\")"
   ]
  }
 ],
 "metadata": {
  "language_info": {
   "name": "python"
  }
 },
 "nbformat": 4,
 "nbformat_minor": 2
}
