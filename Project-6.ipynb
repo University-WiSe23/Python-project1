{
 "cells": [
  {
   "cell_type": "markdown",
   "metadata": {},
   "source": [
    "Aufg.4)\n",
    "Definieren Sie eine eigene Funktion „doppelte Potenz“, welche das Doppelte der Potenz aus einer Basiszahl und einem Exponenten zurückgibt \n",
    "(Bsp.: Basis: 2; Exponent: 3; Rückgabewert: 2*2**3 = 16). Geben Sie das Ergebnis für mindestens zwei Basis/Exponent-Kombinationen am Bildschirm aus, indem Sie innerhalb des print-Aufrufs ihre Funktion aufrufen. (Der Aufruf der print-Funktion soll außerhalb der Funktion erfolgen.)"
   ]
  },
  {
   "cell_type": "code",
   "execution_count": 3,
   "metadata": {},
   "outputs": [
    {
     "name": "stdout",
     "output_type": "stream",
     "text": [
      "16\n"
     ]
    }
   ],
   "source": [
    "# Mit def benenne ich die Funktion, mit der jeweiligen Bezeichnung (nachfolgwend zu def)\n",
    "# Die benutzerdefinierte Funktion beinhaltet 2 Parameter (sichtbar durch das Komma)\n",
    "# Diese werden für den Ausdruck der Funktion benötigt (siehe zweite Zeile)\n",
    "# Die Funktion wird mit return (der Rückgabe-Wert wird festgelegt) beendet und das Ergebnis ausgegeben\n",
    "def doppelte_Potenz(b,p):\n",
    "                    erg = 2*(b**p)\n",
    "                    return erg\n",
    "print(doppelte_Potenz(2,3))"
   ]
  }
 ],
 "metadata": {
  "kernelspec": {
   "display_name": "base",
   "language": "python",
   "name": "python3"
  },
  "language_info": {
   "codemirror_mode": {
    "name": "ipython",
    "version": 3
   },
   "file_extension": ".py",
   "mimetype": "text/x-python",
   "name": "python",
   "nbconvert_exporter": "python",
   "pygments_lexer": "ipython3",
   "version": "3.11.5"
  }
 },
 "nbformat": 4,
 "nbformat_minor": 2
}
