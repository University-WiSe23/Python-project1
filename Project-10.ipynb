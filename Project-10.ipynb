{
 "cells": [
  {
   "cell_type": "markdown",
   "metadata": {},
   "source": [
    "Aufgabe 4 (Typ C)\n",
    "Erweitern Sie das Programm aus Aufgabe 2b) dieses Übungsblattes:\n",
    "Ermöglichen Sie, dass die Mitarbeiter mit ihrem Gehalt vom Benutzer eingegeben werden können (und nicht vom Programmierer der Listenvariablen zugewiesen werden.)\n",
    "\n",
    "Benutzen Sie hierzu eine „Repeat‐Until“‐Schleife, so wie man sie in Python realisieren kann (vgl. Aufgabe 2a).\n",
    "-> while xx:\n",
    "\n",
    "Der Benutzer soll nach Eingabe eines Mitarbeiters inkl. Gehalts jeweils gefragt werden, ob er einen weiteren Mitarbeiter incl. Gehalt eingeben möchte. (Nach Abschluss der Eingabe sollen alle Mitarbeiter und ihre Gehälter sowie\n",
    "die Gehaltssumme ausgegeben werden.)\n",
    "\n",
    "Am Bildschirm sollte dann beim Ausführen Ihres Programms etwa Folgendes erscheinen:\n",
    "Eingabe des Mitarbeiters (Nachname) und seines Gehalts\n",
    "Mitarbeiter: Mueller\n",
    "Gehalt: 1000\n",
    "Wollen Sie einen weiteren Mitarbeiter incl. Gehalt eingeben (j/n)?: j\n",
    "Mitarbeiter: Meier\n",
    "Gehalt: 2000\n",
    "Wollen Sie einen weiteren Mitarbeiter incl. Gehalt eingeben (j/n)?: j\n",
    "Mitarbeiter: Schulze\n",
    "Gehalt: 3000\n",
    "Wollen Sie einen weiteren Mitarbeiter incl. Gehalt eingeben (j/n)?: n\n",
    "Ausgabe von 3 Mitarbeiter(n) incl. Gehalt:\n",
    "Mueller: 1000\n",
    "Meier: 2000\n",
    "Schulze: 3000\n",
    "Gehaltssumme: 6000\n",
    "Tipp zur Erinnerung: Einer zunächst leeren Liste mitarbeiter_gehaelter kann man mit append() Listenelemente (bestehend aus einem Mitarbeiternamen und einem Gehalt) hinzufügen:\n",
    "mitarbeiter_gehaelter.append([name, gehalt])"
   ]
  },
  {
   "cell_type": "code",
   "execution_count": 2,
   "metadata": {},
   "outputs": [
    {
     "name": "stdout",
     "output_type": "stream",
     "text": [
      "Schmidt: 6800\n",
      "Mueller: 5600\n",
      "Koepf: 4200\n",
      "Klasen: 4200\n",
      "\n",
      "Gehaltssumme: 20800\n"
     ]
    }
   ],
   "source": [
    "mitarbeiter_gehaelter = [[\"Schmidt\",6800], [\"Mueller\",5600],[\"Koepf\",4200],[\"Klasen\", 4200]]\n",
    "gehaltSumme = 0\n",
    "for element in mitarbeiter_gehaelter:\n",
    "    print( element[0] + \": \" + str(element[1]))\n",
    "    gehaltSumme += element[1]\n",
    "print(\"\\nGehaltssumme: \" + str(gehaltSumme))"
   ]
  }
 ],
 "metadata": {
  "kernelspec": {
   "display_name": "base",
   "language": "python",
   "name": "python3"
  },
  "language_info": {
   "codemirror_mode": {
    "name": "ipython",
    "version": 3
   },
   "file_extension": ".py",
   "mimetype": "text/x-python",
   "name": "python",
   "nbconvert_exporter": "python",
   "pygments_lexer": "ipython3",
   "version": "3.11.5"
  }
 },
 "nbformat": 4,
 "nbformat_minor": 2
}
